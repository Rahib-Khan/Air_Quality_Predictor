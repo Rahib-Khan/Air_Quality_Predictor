{
 "cells": [
  {
   "cell_type": "markdown",
   "metadata": {},
   "source": [
    "## Data Cleaning - Pre-Generated Data Files  \n",
    "### EPA - United States Environmental Protection Agency  \n",
    "\n",
    "**Link:** [EPA Air Data Download Files](https://aqs.epa.gov/aqsweb/airdata/download_files.html)\n"
   ]
  },
  {
   "cell_type": "code",
   "execution_count": 13,
   "metadata": {},
   "outputs": [],
   "source": [
    "import pandas as pd"
   ]
  },
  {
   "cell_type": "code",
   "execution_count": 48,
   "metadata": {},
   "outputs": [],
   "source": [
    "def cleanData(year:str):\n",
    "    df = pd.read_csv(f'../data/raw-data/annual_conc_by_monitor/individual-data/annual_conc_by_monitor_{year}.csv', low_memory=False)\n",
    "    boro = ['Bronx', 'Kings', 'New York', 'Queens', 'Richmond']\n",
    "    df = df[(df['State Name'] == 'New York')&(df['County Name'].isin(boro))]\n",
    "    \n",
    "    all_cols = df.columns.tolist()\n",
    "    selected_cols = ['Latitude', 'Longitude', 'Datum', 'Parameter Name', 'Sample Duration', 'Pollutant Standard', 'Metric Used', 'Method Name', 'Year', 'Units of Measure', 'Observation Count', 'Observation Percent', 'Arithmetic Mean', 'Arithmetic Standard Dev', 'Local Site Name', 'Address', 'State Name', 'County Name','City Name']\n",
    "    remove_cols = list(set(all_cols)-set(selected_cols))\n",
    "    df.drop(remove_cols, axis=1, inplace=True)\n",
    "\n",
    "    df.loc[df['County Name'] == 'Kings', 'County Name'] = 'Brooklyn'\n",
    "    df.loc[df['County Name'] == 'New York', 'County Name'] = 'Manhatten'\n",
    "    df.loc[df['County Name'] == 'Richmond', 'County Name'] = 'Staten Island'\n",
    "    \n",
    "\n",
    "    df.to_csv(f'../data/clean-data/annual_conc_by_monitor/individual-data/annual_conc_by_monitor_{year}.csv', index=False)\n",
    "    df"
   ]
  },
  {
   "cell_type": "code",
   "execution_count": 49,
   "metadata": {},
   "outputs": [],
   "source": [
    "#Define the years as strings\n",
    "years = ['2000','2001','2002','2003','2004','2005','2006','2007']"
   ]
  },
  {
   "cell_type": "code",
   "execution_count": 50,
   "metadata": {},
   "outputs": [],
   "source": [
    "#Clean all the data.\n",
    "for year in years:\n",
    "    cleanData(year)"
   ]
  },
  {
   "cell_type": "code",
   "execution_count": 51,
   "metadata": {},
   "outputs": [],
   "source": [
    "def mergeData(start:int, stop:int):\n",
    "    df_list = []\n",
    "    for i in range(start,stop+1):\n",
    "        df = pd.read_csv(f'../data/clean-data/annual_conc_by_monitor/individual-data/annual_conc_by_monitor_{str(i)}.csv', low_memory=False)\n",
    "        df['Year'] = i\n",
    "        df_list.append(df)\n",
    "    \n",
    "    union_df = pd.concat(df_list)\n",
    "    union_df.to_csv(f'../data/clean-data/annual_conc_by_monitor/combined-data/annual_conc_by_monitor_{str(start)}-{str(stop)}.csv', index=False)\n",
    "\n",
    "    "
   ]
  },
  {
   "cell_type": "code",
   "execution_count": 53,
   "metadata": {},
   "outputs": [],
   "source": [
    "mergeData(2000,2007)"
   ]
  }
 ],
 "metadata": {
  "kernelspec": {
   "display_name": "Data-Science",
   "language": "python",
   "name": "python3"
  },
  "language_info": {
   "codemirror_mode": {
    "name": "ipython",
    "version": 3
   },
   "file_extension": ".py",
   "mimetype": "text/x-python",
   "name": "python",
   "nbconvert_exporter": "python",
   "pygments_lexer": "ipython3",
   "version": "3.12.4"
  }
 },
 "nbformat": 4,
 "nbformat_minor": 2
}
