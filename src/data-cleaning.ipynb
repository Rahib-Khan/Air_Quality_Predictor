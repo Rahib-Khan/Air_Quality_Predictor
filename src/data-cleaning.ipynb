{
 "cells": [
  {
   "cell_type": "markdown",
   "metadata": {},
   "source": [
    "## Data Cleaning - Pre-Generated Data Files  \n",
    "### EPA - United States Environmental Protection Agency  \n",
    "\n",
    "**Link:** [EPA Air Data Download Files](https://aqs.epa.gov/aqsweb/airdata/download_files.html)\n"
   ]
  },
  {
   "cell_type": "code",
   "execution_count": 1,
   "metadata": {},
   "outputs": [],
   "source": [
    "import pandas as pd"
   ]
  },
  {
   "cell_type": "code",
   "execution_count": 44,
   "metadata": {},
   "outputs": [],
   "source": [
    "def cleanData(year:str):\n",
    "    df = pd.read_csv(f'../data/raw-data/annual_conc_by_monitor/annual_conc_by_monitor_{year}.csv', low_memory=False)\n",
    "    boro = ['Bronx', 'Kings', 'New York', 'Queens' 'Richmond']\n",
    "    df = df[(df['State Name'] == 'New York') & (df['County Name'].isin(boro))]\n",
    "    \n",
    "    all_cols = df.columns.tolist()\n",
    "    selected_cols = ['Latitude', 'Longitude', 'Datum', 'Paramter', 'Sample Duration', 'Pollutant Standard', 'Metric Used', 'Method Name', 'Year', 'Units of Measure', 'Observation Count', 'Observation Percent', 'Arithmetic Mean', 'Arithmetic Standard Dev', 'Local Site Name', 'Address', 'State Name', 'County Name','City Name']\n",
    "    remove_cols = list(set(all_cols)-set(selected_cols))\n",
    "    df.drop(remove_cols, axis=1, inplace=True)\n",
    "\n",
    "    df.to_csv(f'../data/clean-data/annual_conc_by_monitor/annual_conc_by_monitor_{year}.csv')"
   ]
  },
  {
   "cell_type": "code",
   "execution_count": 42,
   "metadata": {},
   "outputs": [],
   "source": [
    "#Define the years as strings\n",
    "years = ['2000','2001','2002','2003','2004','2005','2006','2007']"
   ]
  },
  {
   "cell_type": "code",
   "execution_count": 45,
   "metadata": {},
   "outputs": [],
   "source": [
    "#Clean all the data.\n",
    "for year in years:\n",
    "    cleanData(year)"
   ]
  }
 ],
 "metadata": {
  "kernelspec": {
   "display_name": "Data-Science",
   "language": "python",
   "name": "python3"
  },
  "language_info": {
   "codemirror_mode": {
    "name": "ipython",
    "version": 3
   },
   "file_extension": ".py",
   "mimetype": "text/x-python",
   "name": "python",
   "nbconvert_exporter": "python",
   "pygments_lexer": "ipython3",
   "version": "3.12.4"
  }
 },
 "nbformat": 4,
 "nbformat_minor": 2
}
