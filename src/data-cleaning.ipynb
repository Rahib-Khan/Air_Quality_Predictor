{
 "cells": [
  {
   "cell_type": "markdown",
   "metadata": {},
   "source": [
    "## Data Cleaning - Pre-Generated Data Files  \n",
    "### EPA - United States Environmental Protection Agency  \n",
    "\n",
    "**Link:** [EPA Air Data Download Files](https://aqs.epa.gov/aqsweb/airdata/download_files.html)\n"
   ]
  },
  {
   "cell_type": "code",
   "execution_count": 2,
   "metadata": {},
   "outputs": [],
   "source": [
    "import pandas as pd\n",
    "\n",
    "def cleanData(year: str):\n",
    "    # change to respective path\n",
    "    df = pd.read_csv(f'../data/raw-data/annual_conc_by_monitor/individual-data/annual_conc_by_monitor_{year}.csv', low_memory=False)\n",
    "    #Ozone Data Cleaning and Processing\n",
    "    filtered_Ozone_df = df[(df['Parameter Name'] == 'Ozone') & (df['Sample Duration'] == '8-HR RUN AVG BEGIN HOUR')]\n",
    "\n",
    "    # Calculating the average of 'Arithmetic Mean' grouped by 'State Code'\n",
    "\n",
    "    ozone_average_by_state = filtered_Ozone_df.groupby('State Name')['Arithmetic Mean'].mean().reset_index(name='Ozone Average')\n",
    "\n",
    "    filtered_Sulfur_df = df[(df['Parameter Name'] == 'Sulfur dioxide') & (df['Sample Duration'] == '1 HOUR')]\n",
    "\n",
    "    #Calculating the average of 'Arithmetic Mean' grouped by 'State Code'\n",
    "    sulfur_average_by_state = filtered_Sulfur_df.groupby('State Name')['Arithmetic Mean'].mean().reset_index(name='Sulfur Average')\n",
    "\n",
    "    filtered_Carbon_df = df[(df['Parameter Name'] == 'Carbon monoxide') & (df['Sample Duration'] == '8-HR RUN AVG END HOUR')]\n",
    "\n",
    "    # Calculating the average of 'Arithmetic Mean' grouped by 'State Code'\n",
    "    carbon_average_by_state = filtered_Carbon_df.groupby('State Name')['Arithmetic Mean'].mean().reset_index(name='Carbon Average')\n",
    "\n",
    "    filtered_Nitrogen_df = df[(df['Parameter Name'] == 'Nitrogen dioxide (NO2)') & (df['Sample Duration'] == '1 HOUR')]\n",
    "\n",
    "    # Calculating the average of 'Arithmetic Mean' grouped by 'State Code'\n",
    "    nitrogen_average_by_state = filtered_Nitrogen_df.groupby('State Name')['Arithmetic Mean'].mean().reset_index(name='Nitrogen Average')\n",
    "\n",
    "    filtered_Small_df = df[(df['Parameter Name'] == 'PM2.5 - Local Conditions') & (df['Sample Duration'] == '24-HR BLK AVG')]\n",
    "\n",
    "    # Calculating the average of 'Arithmetic Mean' grouped by 'State Code'\n",
    "    small_particulate_average_by_state = filtered_Small_df.groupby('State Name')['Arithmetic Mean'].mean().reset_index(name='PM2.5 Average')\n",
    "\n",
    "    filtered_df = df[(df['Parameter Name'] == 'PM10 Total 0-10um STP') & (df['Sample Duration'] == '24-HR BLK AVG')]\n",
    "\n",
    "    # Calculating the average of 'Arithmetic Mean' grouped by 'State Code'\n",
    "    large_particulate_average_by_state = filtered_df.groupby('State Name')['Arithmetic Mean'].mean().reset_index(name='PM10 Average')\n",
    "\n",
    "    all_cols = df.columns.tolist()\n",
    "    selected_cols = [  'Year','State Name',\n",
    "                     \"Ozone Average\",\"Carbon Average\",\t\"Nitrogen Average\",\t\n",
    "                     \"Sulfur Average\",\t\"PM2.5 Average\",\"PM10 Average\",]\n",
    "    \n",
    "    remove_cols = list(set(all_cols) - set(selected_cols))\n",
    "    df.drop(remove_cols, axis=1, inplace=True)\n",
    "\n",
    "    df.drop_duplicates(inplace=True, ignore_index=True)\n",
    "\n",
    "    df = df.merge(ozone_average_by_state, on='State Name', how='left')\n",
    "    df = df.merge(carbon_average_by_state, on='State Name', how='left')\n",
    "    df = df.merge(nitrogen_average_by_state, on='State Name', how='left')\n",
    "    df = df.merge(sulfur_average_by_state, on='State Name', how='left')\n",
    "    df = df.merge(small_particulate_average_by_state, on='State Name', how='left')\n",
    "    df = df.merge(large_particulate_average_by_state, on='State Name', how='left')\n",
    "    \n",
    "\n",
    "    return df\n",
    "    \n",
    "\n"
   ]
  },
  {
   "cell_type": "code",
   "execution_count": 3,
   "metadata": {},
   "outputs": [],
   "source": [
    "#Define the years as strings\n",
    "years = [str(year) for year in range(2000, 2024)]"
   ]
  },
  {
   "cell_type": "code",
   "execution_count": 6,
   "metadata": {},
   "outputs": [],
   "source": [
    "#Clean all the data.\n",
    "df = pd.DataFrame()\n",
    "\n",
    "for year in years:\n",
    "    partial_df = cleanData(year)\n",
    "    df = pd.concat([df,partial_df])\n",
    "\n",
    "df.to_csv('../Processed_Data/AQI_Ratings.csv', index=False)"
   ]
  }
 ],
 "metadata": {
  "kernelspec": {
   "display_name": "Data-Science",
   "language": "python",
   "name": "python3"
  },
  "language_info": {
   "codemirror_mode": {
    "name": "ipython",
    "version": 3
   },
   "file_extension": ".py",
   "mimetype": "text/x-python",
   "name": "python",
   "nbconvert_exporter": "python",
   "pygments_lexer": "ipython3",
   "version": "3.12.4"
  }
 },
 "nbformat": 4,
 "nbformat_minor": 2
}
