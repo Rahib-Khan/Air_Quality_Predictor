{
 "cells": [
  {
   "cell_type": "markdown",
   "metadata": {},
   "source": [
    "## Data Cleaning - Pre-Generated Data Files  \n",
    "### EPA - United States Environmental Protection Agency  \n",
    "\n",
    "**Link:** [EPA Air Data Download Files](https://aqs.epa.gov/aqsweb/airdata/download_files.html)\n"
   ]
  },
  {
   "cell_type": "code",
   "execution_count": 29,
   "metadata": {},
   "outputs": [],
   "source": [
    "import pandas as pd"
   ]
  },
  {
   "cell_type": "code",
   "execution_count": 30,
   "metadata": {},
   "outputs": [],
   "source": [
    "import pandas as pd\n",
    "\n",
    "def cleanData(year: str):\n",
    "    # change to respective path\n",
    "    df = pd.read_csv(f'/Users/rahib/ctp_data/annual_conc_by_monitor_{year}.csv', low_memory=False)\n",
    "    \n",
    "    all_cols = df.columns.tolist()\n",
    "    selected_cols = ['Latitude', 'Longitude', 'Datum', 'Parameter Name', 'Sample Duration', \n",
    "                     'Pollutant Standard', 'Metric Used', 'Method Name', 'Year', \n",
    "                     'Units of Measure', 'Observation Count', 'Observation Percent', \n",
    "                     'Arithmetic Mean', 'Arithmetic Standard Dev', 'Local Site Name', \n",
    "                     'Address', 'State Name', 'County Name', 'City Name']\n",
    "    \n",
    "    remove_cols = list(set(all_cols) - set(selected_cols))\n",
    "    df.drop(remove_cols, axis=1, inplace=True)\n",
    "    \n",
    "    parameter_list = [\"Ozone\", \"Sulfur Dioxide\", \"Carbon monoxide\", \"Nitrogen Dioxide\"]\n",
    "    df = df[df[\"Parameter Name\"].isin(parameter_list)]  # Exclude unwanted parameters\n",
    "\n",
    "    # change to respective path\n",
    "    df.to_csv(f'/Users/rahib/ctp_data/filtered_data_{year}.csv', index=False)\n",
    "\n"
   ]
  },
  {
   "cell_type": "code",
   "execution_count": 31,
   "metadata": {},
   "outputs": [],
   "source": [
    "#Define the years as strings\n",
    "years = [\"2023\"]"
   ]
  },
  {
   "cell_type": "code",
   "execution_count": 32,
   "metadata": {},
   "outputs": [],
   "source": [
    "#Clean all the data.\n",
    "for year in years:\n",
    "    cleanData(year)"
   ]
  }
 ],
 "metadata": {
  "kernelspec": {
   "display_name": "Python 3",
   "language": "python",
   "name": "python3"
  },
  "language_info": {
   "codemirror_mode": {
    "name": "ipython",
    "version": 3
   },
   "file_extension": ".py",
   "mimetype": "text/x-python",
   "name": "python",
   "nbconvert_exporter": "python",
   "pygments_lexer": "ipython3",
   "version": "3.11.4"
  }
 },
 "nbformat": 4,
 "nbformat_minor": 2
}
